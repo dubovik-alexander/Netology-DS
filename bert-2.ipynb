{
 "cells": [
  {
   "cell_type": "code",
   "execution_count": 1,
   "id": "12b0cee8-200b-4d1d-9014-8d1b502fbf4e",
   "metadata": {},
   "outputs": [],
   "source": [
    "import torch\n",
    "import torch.nn as nn\n",
    "import torch.optim as optim\n",
    "from torch.utils.data import DataLoader, TensorDataset\n",
    "from transformers import BertTokenizer, BertModel\n",
    "from sklearn.metrics import f1_score\n",
    "from sklearn.model_selection import train_test_split\n",
    "import pandas as pd\n",
    "from tqdm import tqdm\n",
    "\n"
   ]
  },
  {
   "cell_type": "code",
   "execution_count": 2,
   "id": "f057ced0-337b-4115-9f9d-7a073a8de2d2",
   "metadata": {},
   "outputs": [],
   "source": [
    "# Загрузка данных\n",
    "df = pd.read_csv('Constraint_Train.csv')\n",
    "\n"
   ]
  },
  {
   "cell_type": "code",
   "execution_count": 3,
   "id": "3698f080-198a-4d65-956d-a4dea3c446e3",
   "metadata": {},
   "outputs": [],
   "source": [
    "# Загрузка предварительно обученного BERT токенизатора и модели\n",
    "tokenizer = BertTokenizer.from_pretrained('bert-base-uncased')\n",
    "bert_model = BertModel.from_pretrained('bert-base-uncased')\n"
   ]
  },
  {
   "cell_type": "code",
   "execution_count": 4,
   "id": "9d1c403f-8ae2-4e2b-a978-56cf51634c6d",
   "metadata": {},
   "outputs": [
    {
     "name": "stderr",
     "output_type": "stream",
     "text": [
      "100%|██████████| 6420/6420 [00:05<00:00, 1258.02it/s]\n"
     ]
    }
   ],
   "source": [
    "# Токенизация текстов\n",
    "sentences = []\n",
    "attention_masks = []\n",
    "for text in tqdm(df.tweet):\n",
    "    encoding = tokenizer.encode_plus(\n",
    "        text,\n",
    "        add_special_tokens=True,\n",
    "        max_length=512,\n",
    "        padding='max_length',\n",
    "        truncation=True,\n",
    "        return_attention_mask=True,\n",
    "        return_tensors='pt'\n",
    "    )\n",
    "    sentences.append(encoding['input_ids'])\n",
    "    attention_masks.append(encoding['attention_mask'])\n",
    "\n"
   ]
  },
  {
   "cell_type": "code",
   "execution_count": 5,
   "id": "2c0ea0ea-b492-46d0-9538-ca830dfbac2c",
   "metadata": {},
   "outputs": [],
   "source": [
    "# Преобразование списков в тензоры PyTorch\n",
    "sentences_tensor = torch.cat(sentences, dim=0)\n",
    "attention_masks_tensor = torch.cat(attention_masks, dim=0)\n",
    "\n",
    "labels = (df.label == 'real').astype(int).to_list()\n",
    "labels_tensor = torch.tensor(labels)\n",
    "\n"
   ]
  },
  {
   "cell_type": "code",
   "execution_count": 6,
   "id": "e4927fe8-d848-48c9-9934-63f44514f3c3",
   "metadata": {},
   "outputs": [],
   "source": [
    "# Разделение данных на обучающую и тестовую выборки\n",
    "X_train, X_test, y_train, y_test = train_test_split(sentences_tensor, labels_tensor, test_size=0.33)\n",
    "\n"
   ]
  },
  {
   "cell_type": "code",
   "execution_count": 7,
   "id": "73c8d551-04b3-496e-9b4f-ee873dbba521",
   "metadata": {},
   "outputs": [],
   "source": [
    "# Подготовка данных для PyTorch\n",
    "train_dataset = TensorDataset(X_train, y_train, attention_masks_tensor[:len(X_train)])\n",
    "test_dataset = TensorDataset(X_test, y_test, attention_masks_tensor[len(X_train):])\n",
    "\n",
    "train_loader = DataLoader(train_dataset, batch_size=16, shuffle=True)\n",
    "test_loader = DataLoader(test_dataset, batch_size=16, shuffle=False)\n",
    "\n"
   ]
  },
  {
   "cell_type": "code",
   "execution_count": 8,
   "id": "456dbfad-df05-44c6-b926-7c2831cf1f72",
   "metadata": {},
   "outputs": [],
   "source": [
    "# Определение модели CNN с использованием BERT\n",
    "class CNN(nn.Module):\n",
    "    def __init__(self, output_size, bert_model):\n",
    "        super(CNN, self).__init__()\n",
    "        self.bert = bert_model\n",
    "        self.dropout = nn.Dropout(0.5)\n",
    "        self.label = nn.Linear(768, output_size)\n",
    "    \n",
    "    def forward(self, input_sentences, attention_mask):\n",
    "        with torch.no_grad():\n",
    "            bert_output = self.bert(input_sentences, attention_mask=attention_mask)[1]\n",
    "        bert_output = self.dropout(bert_output)\n",
    "        logits = self.label(bert_output)\n",
    "        return logits\n",
    "\n"
   ]
  },
  {
   "cell_type": "code",
   "execution_count": 9,
   "id": "27035abf-9add-4e95-8d00-56bde3d15852",
   "metadata": {},
   "outputs": [
    {
     "name": "stdout",
     "output_type": "stream",
     "text": [
      "cuda\n"
     ]
    }
   ],
   "source": [
    "# Определение устройства\n",
    "device = torch.device(\"cuda\" if torch.cuda.is_available() else \"cpu\")\n",
    "print(device)\n",
    "\n"
   ]
  },
  {
   "cell_type": "code",
   "execution_count": 10,
   "id": "a8a39396-ce6f-42ab-b1b1-3bcd0852983b",
   "metadata": {},
   "outputs": [],
   "source": [
    "# Определение модели, функции потерь и оптимизатора\n",
    "model = CNN(output_size=2, bert_model=bert_model).to(device)\n",
    "criterion = nn.CrossEntropyLoss()\n",
    "optimizer = torch.optim.Adam(model.parameters(), lr=0.001)"
   ]
  },
  {
   "cell_type": "code",
   "execution_count": 11,
   "id": "90511aed-e8bb-4881-ba2a-d9822dda4cba",
   "metadata": {},
   "outputs": [],
   "source": [
    "\n",
    "# Ранняя остановка\n",
    "class EarlyStopping:\n",
    "    def __init__(self, patience=5, min_delta=0):\n",
    "        self.patience = patience\n",
    "        self.min_delta = min_delta\n",
    "        self.counter = 0\n",
    "        self.best_loss = float('inf')\n",
    "\n",
    "    def __call__(self, val_loss):\n",
    "        if val_loss < (self.best_loss - self.min_delta):\n",
    "            self.best_loss = val_loss\n",
    "            self.counter = 0\n",
    "        else:\n",
    "            self.counter += 1\n",
    "            if self.counter >= self.patience:\n",
    "                return True\n",
    "        return False\n",
    "\n",
    "early_stopping = EarlyStopping(patience=5, min_delta=0.01)\n",
    "\n"
   ]
  },
  {
   "cell_type": "code",
   "execution_count": 12,
   "id": "ba008130-5d4b-4334-9588-afe0bfaa88cb",
   "metadata": {},
   "outputs": [],
   "source": [
    "# Обучение модели с использованием ранней остановки\n",
    "num_epochs = 10\n",
    "for epoch in range(num_epochs):\n",
    "    model.train()\n",
    "    train_loss = 0.0\n",
    "    for batch_idx, (data, target, attention_mask) in enumerate(train_loader):\n",
    "        data, target, attention_mask = data.to(device), target.to(device), attention_mask.to(device)\n",
    "        optimizer.zero_grad()\n",
    "        output = model(data, attention_mask)\n",
    "        loss = criterion(output, target)\n",
    "        loss.backward()\n",
    "        optimizer.step()\n",
    "        train_loss += loss.item()\n",
    "    train_loss /= len(train_loader)\n",
    "    \n",
    "    # Валидация\n",
    "    model.eval()\n",
    "    val_loss = 0.0\n",
    "    with torch.no_grad():\n",
    "        for data, target, attention_mask in test_loader:\n",
    "            data, target, attention_mask = data.to(device), target.to(device), attention_mask.to(device)\n",
    "            output = model(data, attention_mask)\n",
    "            loss = criterion(output, target)\n",
    "            val_loss += loss.item()\n",
    "    val_loss /= len(test_loader)\n",
    "    \n",
    "    # Ранняя остановка\n",
    "    if early_stopping(val_loss):\n",
    "        print(f\"Early stopping at epoch {epoch}\")\n",
    "        break\n",
    "\n"
   ]
  },
  {
   "cell_type": "code",
   "execution_count": 13,
   "id": "d420244e-b98b-4d7e-b1ca-8ded3399fc57",
   "metadata": {},
   "outputs": [],
   "source": [
    "# Оценка модели\n",
    "model.eval()\n",
    "with torch.no_grad():\n",
    "    y_pred = []\n",
    "    y_true = []\n",
    "    for data, target, attention_mask in test_loader:\n",
    "        data, target, attention_mask = data.to(device), target.to(device), attention_mask.to(device)\n",
    "        output = model(data, attention_mask)\n",
    "        _, predicted = torch.max(output, 1)\n",
    "        y_pred.extend(predicted.cpu().numpy())\n",
    "        y_true.extend(target.cpu().numpy())\n"
   ]
  },
  {
   "cell_type": "code",
   "execution_count": 14,
   "id": "ec7c33f5-5c26-4598-8715-84143a42ef5d",
   "metadata": {},
   "outputs": [
    {
     "name": "stdout",
     "output_type": "stream",
     "text": [
      "F1 Score: 0.7797790407989869\n"
     ]
    }
   ],
   "source": [
    "f1 = f1_score(y_true, y_pred, average='weighted')\n",
    "print(f\"F1 Score: {f1}\")"
   ]
  },
  {
   "cell_type": "code",
   "execution_count": null,
   "id": "a97c175b-2e72-46ad-bd85-9bb0b0db8fc1",
   "metadata": {},
   "outputs": [],
   "source": []
  },
  {
   "cell_type": "code",
   "execution_count": null,
   "id": "3f8ca949-fbc5-4e16-ac92-979d49b33dfe",
   "metadata": {},
   "outputs": [],
   "source": []
  },
  {
   "cell_type": "code",
   "execution_count": null,
   "id": "f3377a52-29db-4d93-9de8-c4ef49344d4e",
   "metadata": {},
   "outputs": [],
   "source": []
  },
  {
   "cell_type": "code",
   "execution_count": null,
   "id": "1891d084-8170-4794-bb41-a2e2c44580bd",
   "metadata": {},
   "outputs": [],
   "source": []
  },
  {
   "cell_type": "code",
   "execution_count": null,
   "id": "a2267edc-5d0d-4cbe-a947-cb149f21d0fe",
   "metadata": {},
   "outputs": [],
   "source": []
  },
  {
   "cell_type": "code",
   "execution_count": null,
   "id": "137ff8a4-a13f-42f7-8000-2c682a1ba2ee",
   "metadata": {},
   "outputs": [],
   "source": []
  },
  {
   "cell_type": "code",
   "execution_count": null,
   "id": "5b2b0eae-d129-4fed-9f03-3e6eff86a551",
   "metadata": {},
   "outputs": [],
   "source": []
  },
  {
   "cell_type": "code",
   "execution_count": null,
   "id": "5a78d145-7150-46a3-bb38-f43e78170444",
   "metadata": {},
   "outputs": [],
   "source": []
  }
 ],
 "metadata": {
  "kernelspec": {
   "display_name": "Python 3 (ipykernel)",
   "language": "python",
   "name": "python3"
  },
  "language_info": {
   "codemirror_mode": {
    "name": "ipython",
    "version": 3
   },
   "file_extension": ".py",
   "mimetype": "text/x-python",
   "name": "python",
   "nbconvert_exporter": "python",
   "pygments_lexer": "ipython3",
   "version": "3.11.7"
  }
 },
 "nbformat": 4,
 "nbformat_minor": 5
}
