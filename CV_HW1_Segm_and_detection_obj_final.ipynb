{
 "cells": [
  {
   "cell_type": "markdown",
   "id": "b4bc38cc-24ba-4e63-a27a-0cf29acfc70c",
   "metadata": {},
   "source": [
    "## Домашнее задание «Сегментация и детекция объектов»"
   ]
  },
  {
   "cell_type": "markdown",
   "id": "f81963f5-c1e8-4379-855e-ed81c9cc944b",
   "metadata": {},
   "source": [
    "### Задание: *Распознавание рукописного ввода на примере базы MNIST*\n",
    "\n",
    "Построить классификатор изображений рукописного ввода на базе MNIST. В качестве шаблона в данной работе можно использовать <a href=\"https://github.com/a4tunado/lectures/blob/master/002/002-digit.ipynb\" target=\"_blank\">ipython-ноутбук 002-digit.ipynb</a>.\n",
    "\n",
    "Классификатор предлагается строить на признаках, полученных в результате предобработки изображений, например, гистограммы градиентов (HOG) или результат PCA преобразования.\n",
    "\n",
    "В качестве модели классификатора можно использовать любую известную Вам модель, за исключением сверточных нейронных сетей.\n",
    "\n",
    "Критерием качества классификатора является метрика accuracy. Для получения зачета по данной работе, значение метрики accuracy должно быть больше 0.6. Метрика оценивается на тестовой выборке в рамках контеста <a href=\"https://www.kaggle.com/c/digit-recognizer\" target=\"_blank\">Digit Recognizer</a> на Kaggle.\n",
    "\n",
    "Решение необходимо предоставить в виде ipython-ноутбука с реализацией процесса построения модели и скриншота с финальным результатом на Kaggle."
   ]
  },
  {
   "cell_type": "markdown",
   "id": "d373507a-2bd5-414a-8e43-fd6c6ec30003",
   "metadata": {},
   "source": [
    "## Решение"
   ]
  },
  {
   "cell_type": "markdown",
   "id": "08fcd832-4c95-4c0f-8a84-af3d991000ca",
   "metadata": {},
   "source": [
    "### Загружаем все необходимые библиотеки"
   ]
  },
  {
   "cell_type": "code",
   "execution_count": 37,
   "id": "496b8753-20dc-4a21-b4cc-46501cd0503c",
   "metadata": {
    "tags": []
   },
   "outputs": [],
   "source": [
    "%matplotlib inline\n",
    "import cv2\n",
    "import numpy as np\n",
    "import pandas as pd\n",
    "import matplotlib.pyplot as plt\n",
    "from sklearn.model_selection import train_test_split\n",
    "from sklearn.pipeline import make_pipeline\n",
    "from sklearn.metrics import accuracy_score\n",
    "from sklearn.linear_model import LogisticRegression\n",
    "from sklearn.ensemble import RandomForestClassifier\n",
    "from sklearn.metrics import classification_report\n",
    "from sklearn.metrics import confusion_matrix\n",
    "from sklearn.cluster import KMeans\n",
    "from sklearn.preprocessing import StandardScaler\n",
    "from sklearn.svm import SVC\n",
    "\n",
    "from sklearn.svm import SVC"
   ]
  },
  {
   "cell_type": "code",
   "execution_count": 2,
   "id": "7c0cdc2f-89e1-4861-bde2-03f8c27e3e28",
   "metadata": {
    "tags": []
   },
   "outputs": [
    {
     "name": "stdout",
     "output_type": "stream",
     "text": [
      "4.9.0\n"
     ]
    }
   ],
   "source": [
    "print(cv2.__version__)"
   ]
  },
  {
   "cell_type": "markdown",
   "id": "09796d62-b2fc-40f1-a7e8-8258f5d9b35b",
   "metadata": {},
   "source": [
    "## Загружаем исходные данные"
   ]
  },
  {
   "cell_type": "code",
   "execution_count": 3,
   "id": "f6d162be-d05f-43b8-87aa-5a46b75a9522",
   "metadata": {
    "tags": []
   },
   "outputs": [],
   "source": [
    "train = np.loadtxt('./digit-recognizer/train.csv', delimiter = ',', skiprows = 1)\n",
    "test = np.loadtxt('./digit-recognizer/test.csv', delimiter= ',', skiprows = 1)"
   ]
  },
  {
   "cell_type": "code",
   "execution_count": 4,
   "id": "a2d0e883-6f53-49ec-b9a5-45060f9e0d28",
   "metadata": {
    "tags": []
   },
   "outputs": [
    {
     "data": {
      "text/plain": [
       "((42000, 785), (28000, 784))"
      ]
     },
     "execution_count": 4,
     "metadata": {},
     "output_type": "execute_result"
    }
   ],
   "source": [
    "train.shape, test.shape"
   ]
  },
  {
   "cell_type": "code",
   "execution_count": 5,
   "id": "4222601e-b09f-43d5-9425-c38a1d47346e",
   "metadata": {
    "tags": []
   },
   "outputs": [],
   "source": [
    "# сохраняем разметку в отдельную переменную\n",
    "train_label = train[:, 0]\n",
    "test_label = test[:, 0]\n",
    "\n",
    "# приводим размерность к удобному для обработки виду\n",
    "train_img = np.resize(train[:, 1:], (train.shape[0], 28, 28))\n",
    "test_img = np.resize(test, (test.shape[0], 28, 28))\n"
   ]
  },
  {
   "cell_type": "code",
   "execution_count": 6,
   "id": "c44d4e7a-f881-49a6-b4da-4fefa8a16d5b",
   "metadata": {
    "tags": []
   },
   "outputs": [
    {
     "data": {
      "text/plain": [
       "((42000,), (28000, 28, 28))"
      ]
     },
     "execution_count": 6,
     "metadata": {},
     "output_type": "execute_result"
    }
   ],
   "source": [
    "train_label.shape, test_img.shape"
   ]
  },
  {
   "cell_type": "markdown",
   "id": "e1917d02-56ba-4301-bfa0-3f80d747cd17",
   "metadata": {},
   "source": [
    "## Визуализируем исходные данные"
   ]
  },
  {
   "cell_type": "code",
   "execution_count": 7,
   "id": "d07bdc5b-1c59-402a-82ec-dc54f6390cec",
   "metadata": {
    "tags": []
   },
   "outputs": [
    {
     "data": {
      "image/png": "[encoded data removed]",
      "text/plain": [
       "<Figure size 2000x1000 with 5 Axes>"
      ]
     },
     "metadata": {},
     "output_type": "display_data"
    }
   ],
   "source": [
    "fig = plt.figure(figsize = (20, 10))\n",
    "for i, img in enumerate(train_img[0:5], 1):\n",
    "    subplot = fig.add_subplot(1, 7, i)\n",
    "    plt.imshow(img, cmap = 'gray');\n",
    "    subplot.set_title('%s' % train_label[i - 1]);"
   ]
  },
  {
   "cell_type": "markdown",
   "id": "1b763e46-fc0f-4f0e-9b7e-8647757fc64d",
   "metadata": {},
   "source": [
    "## Задаем параметры для вычисления дескриптора"
   ]
  },
  {
   "cell_type": "code",
   "execution_count": 8,
   "id": "6ba5070d-eee7-4a7d-8053-6e00f1a7cbe6",
   "metadata": {
    "tags": []
   },
   "outputs": [],
   "source": [
    "winSize = (28,28)\n",
    "blockSize = (14,14)\n",
    "blockStride = (14,14)\n",
    "cellSize = (7,7)\n",
    "nbins = 9\n",
    "derivAperture = 1\n",
    "winSigma = 4.\n",
    "histogramNormType = 0\n",
    "L2HysThreshold = 2.0000000000000001e-01\n",
    "gammaCorrection = 0\n",
    "nlevels = 64\n",
    "\n",
    "hog = cv2.HOGDescriptor(winSize,\n",
    "                        blockSize,\n",
    "                        blockStride,\n",
    "                        cellSize,\n",
    "                        nbins,\n",
    "                        derivAperture,\n",
    "                        winSigma,\n",
    "                        histogramNormType,\n",
    "                        L2HysThreshold,\n",
    "                        gammaCorrection,\n",
    "                        nlevels)"
   ]
  },
  {
   "cell_type": "code",
   "execution_count": 9,
   "id": "a9727eb1-ff8c-4647-885f-d97d68d12a7d",
   "metadata": {
    "tags": []
   },
   "outputs": [],
   "source": [
    "# Вычисления гистограммы ориентированных градиентов (HOG) \n",
    "\n",
    "train_hist = np.zeros((len(train_img), 144))\n",
    "for i in range(len(train_img)):\n",
    "    descriptor = hog.compute(np.uint8(train_img[i]))\n",
    "    train_hist[i] = descriptor\n",
    "\n",
    "test_hist = np.zeros((len(test_img), 144))\n",
    "for i in range(len(test_img)):\n",
    "    descriptor = hog.compute(np.uint8(test_img[i]))\n",
    "    test_hist[i] = descriptor"
   ]
  },
  {
   "cell_type": "code",
   "execution_count": 10,
   "id": "e85f97ba-781d-4b6d-84ad-cf059803084e",
   "metadata": {
    "tags": []
   },
   "outputs": [
    {
     "data": {
      "text/plain": [
       "((42000, 144), (28000, 144))"
      ]
     },
     "execution_count": 10,
     "metadata": {},
     "output_type": "execute_result"
    }
   ],
   "source": [
    "train_hist.shape, test_hist.shape"
   ]
  },
  {
   "cell_type": "markdown",
   "id": "948db595-6f59-4708-939c-e76ce5c0f010",
   "metadata": {},
   "source": [
    "## Разбиваем выборку на обучение и валидацию"
   ]
  },
  {
   "cell_type": "code",
   "execution_count": 11,
   "id": "a6d413ea-3d16-4972-9c5d-dbcabf85c26a",
   "metadata": {
    "tags": []
   },
   "outputs": [],
   "source": [
    "y_train, y_val, x_train, x_val = train_test_split(train_label, train_hist, test_size=0.2,random_state = 0)\n"
   ]
  },
  {
   "cell_type": "markdown",
   "id": "56acec4c-62ea-4335-91dd-f928643af4c5",
   "metadata": {},
   "source": [
    "### Нормируем вектор гистограммы"
   ]
  },
  {
   "cell_type": "code",
   "execution_count": 12,
   "id": "49e0406d-8dfc-4f1a-9ac3-67450e00ac2f",
   "metadata": {},
   "outputs": [],
   "source": [
    "# По умолчанию используется L2 норма\n",
    "train_hist = train_hist / np.linalg.norm(train_hist, axis=1)[:, None]\n",
    "test_hist = test_hist / np.linalg.norm(test_hist, axis=1)[:, None]"
   ]
  },
  {
   "cell_type": "markdown",
   "id": "9cdfa449-f7aa-4607-a47b-7412d008ca0e",
   "metadata": {},
   "source": [
    "### 1. Модель логистическая регрессия"
   ]
  },
  {
   "cell_type": "code",
   "execution_count": 13,
   "id": "22cfc064-fa40-414f-8a49-0237d2dd1669",
   "metadata": {
    "tags": []
   },
   "outputs": [],
   "source": [
    "lr_hd = LogisticRegression(random_state = 0, max_iter = 300).fit(x_train, y_train)\n",
    "prediction_lr = lr_hd.predict(x_val)"
   ]
  },
  {
   "cell_type": "code",
   "execution_count": 14,
   "id": "eed0510e-1616-40bf-b20b-9b187a6113e1",
   "metadata": {
    "tags": []
   },
   "outputs": [
    {
     "name": "stdout",
     "output_type": "stream",
     "text": [
      "Accuracy: 0.9665476190476191\n"
     ]
    }
   ],
   "source": [
    "print('Accuracy: %s' % accuracy_score(y_val, prediction_lr))"
   ]
  },
  {
   "cell_type": "code",
   "execution_count": 15,
   "id": "4bdd0c01-55c0-4efe-8228-99a50c0a88aa",
   "metadata": {
    "tags": []
   },
   "outputs": [
    {
     "name": "stdout",
     "output_type": "stream",
     "text": [
      "              precision    recall  f1-score   support\n",
      "\n",
      "         0.0       0.98      0.98      0.98       813\n",
      "         1.0       0.98      0.98      0.98       961\n",
      "         2.0       0.96      0.98      0.97       860\n",
      "         3.0       0.97      0.96      0.97       863\n",
      "         4.0       0.97      0.95      0.96       827\n",
      "         5.0       0.98      0.98      0.98       756\n",
      "         6.0       0.98      0.99      0.98       841\n",
      "         7.0       0.95      0.95      0.95       899\n",
      "         8.0       0.95      0.96      0.96       768\n",
      "         9.0       0.94      0.94      0.94       812\n",
      "\n",
      "    accuracy                           0.97      8400\n",
      "   macro avg       0.97      0.97      0.97      8400\n",
      "weighted avg       0.97      0.97      0.97      8400\n",
      "\n"
     ]
    }
   ],
   "source": [
    "print(classification_report(y_val, prediction_lr))"
   ]
  },
  {
   "cell_type": "code",
   "execution_count": 16,
   "id": "a3741716-c62e-4b02-88d8-d8e74bb70dd6",
   "metadata": {
    "tags": []
   },
   "outputs": [
    {
     "name": "stdout",
     "output_type": "stream",
     "text": [
      "[[800   2   3   1   2   0   2   0   2   1]\n",
      " [  0 939   8   0   4   0   1   4   5   0]\n",
      " [  2   2 841   4   2   0   0   2   6   1]\n",
      " [  2   1   7 830   1   4   0   9   5   4]\n",
      " [  0   6   2   0 787   1   6   8   4  13]\n",
      " [  0   1   0   6   0 738   3   1   5   2]\n",
      " [  0   0   0   0   5   3 830   0   2   1]\n",
      " [  2   3  12   0   4   0   0 854   3  21]\n",
      " [  7   2   2   7   2   2   4   3 734   5]\n",
      " [  2   2   1   8   7   2   1  20   3 766]]\n"
     ]
    }
   ],
   "source": [
    "print(confusion_matrix(y_val, prediction_lr))"
   ]
  },
  {
   "cell_type": "code",
   "execution_count": 17,
   "id": "0ea3a9c5-1175-4ffe-9d49-e7a18c321164",
   "metadata": {
    "tags": []
   },
   "outputs": [],
   "source": [
    "# Предсказания на тестовых данных\n",
    "prediction_lr_test = np.zeros(len(test_img), np.uint8)\n",
    "for i in range(len(test_img)):\n",
    "    prediction_lr_test[i] = lr_hd.predict([test_hist[i]])"
   ]
  },
  {
   "cell_type": "markdown",
   "id": "1e5ec78a-f733-44c9-ab15-fcb0d29c603c",
   "metadata": {},
   "source": [
    "### Визуализируем предсказания"
   ]
  },
  {
   "cell_type": "code",
   "execution_count": 18,
   "id": "a2273e36-a8ec-407b-869a-1eb33e81f77b",
   "metadata": {
    "tags": []
   },
   "outputs": [
    {
     "data": {
      "image/png": "[encoded data removed]",
      "text/plain": [
       "<Figure size 2000x1000 with 5 Axes>"
      ]
     },
     "metadata": {},
     "output_type": "display_data"
    }
   ],
   "source": [
    "fig = plt.figure(figsize = (20, 10))\n",
    "for i, img in enumerate(test_img[0:5], 1):\n",
    "    subplot = fig.add_subplot(1, 7, i)\n",
    "    plt.imshow(img, cmap = 'gray');\n",
    "    subplot.set_title('%s' % prediction_lr_test[i - 1]);"
   ]
  },
  {
   "cell_type": "code",
   "execution_count": 19,
   "id": "f2d0e910-eda9-46a2-b187-38fd94ef4aec",
   "metadata": {},
   "outputs": [],
   "source": [
    "with open('submit_lr.csv', 'w') as dst:\n",
    "    dst.write('ImageId,Label\\n')\n",
    "    for i, p in enumerate(prediction_lr_test, 1):\n",
    "        dst.write('%s,%s\\n' % (i, p))"
   ]
  },
  {
   "cell_type": "markdown",
   "id": "44e1cac3-3365-4f54-9a11-e1e396369318",
   "metadata": {},
   "source": [
    "![score](submit_lr.png) \\\n",
    "После загрузки в Kaggle score = 0.49557, что не достаточно по условию задачи. Будем рассматривать другие модели."
   ]
  },
  {
   "cell_type": "markdown",
   "id": "1a946130-3c05-4e9a-9906-8b1c3175c4c3",
   "metadata": {},
   "source": [
    "### 2. Модель классификации Random Forest"
   ]
  },
  {
   "cell_type": "code",
   "execution_count": 20,
   "id": "574f03a4-eaf2-4236-b119-78e07984de4e",
   "metadata": {
    "tags": []
   },
   "outputs": [],
   "source": [
    "rfs_hd = RandomForestClassifier(n_estimators = 200, random_state = 0).fit(x_train, y_train)\n",
    "prediction_rfs = rfs_hd.predict(x_val)\n",
    "\n",
    "\n"
   ]
  },
  {
   "cell_type": "code",
   "execution_count": 21,
   "id": "bfe81c94-ced5-4627-9c6f-6efdd956a99c",
   "metadata": {
    "tags": []
   },
   "outputs": [
    {
     "name": "stdout",
     "output_type": "stream",
     "text": [
      "Accuracy: 0.9691666666666666\n"
     ]
    }
   ],
   "source": [
    "print('Accuracy: %s' % accuracy_score(y_val, prediction_rfs))"
   ]
  },
  {
   "cell_type": "code",
   "execution_count": 22,
   "id": "15878886-6a38-42cb-bbfd-82da0f230512",
   "metadata": {
    "tags": []
   },
   "outputs": [
    {
     "name": "stdout",
     "output_type": "stream",
     "text": [
      "              precision    recall  f1-score   support\n",
      "\n",
      "         0.0       0.98      0.99      0.99       813\n",
      "         1.0       0.99      0.98      0.98       961\n",
      "         2.0       0.94      0.98      0.96       860\n",
      "         3.0       0.97      0.96      0.96       863\n",
      "         4.0       0.98      0.97      0.97       827\n",
      "         5.0       0.98      0.96      0.97       756\n",
      "         6.0       0.98      0.99      0.98       841\n",
      "         7.0       0.95      0.96      0.96       899\n",
      "         8.0       0.96      0.96      0.96       768\n",
      "         9.0       0.96      0.94      0.95       812\n",
      "\n",
      "    accuracy                           0.97      8400\n",
      "   macro avg       0.97      0.97      0.97      8400\n",
      "weighted avg       0.97      0.97      0.97      8400\n",
      "\n"
     ]
    }
   ],
   "source": [
    "print(classification_report(y_val, prediction_rfs))"
   ]
  },
  {
   "cell_type": "code",
   "execution_count": 23,
   "id": "c689ae8d-b99a-43d4-ab4a-40487d5378af",
   "metadata": {
    "tags": []
   },
   "outputs": [
    {
     "name": "stdout",
     "output_type": "stream",
     "text": [
      "[[805   0   2   1   1   0   2   0   1   1]\n",
      " [  0 940  11   1   3   0   1   3   2   0]\n",
      " [  2   0 842   5   0   0   0   4   7   0]\n",
      " [  1   1  12 826   0   5   0   8   6   4]\n",
      " [  0   1   3   0 801   0   4   5   3  10]\n",
      " [  0   0   0   6   1 728   8   1  10   2]\n",
      " [  3   0   3   0   2   4 829   0   0   0]\n",
      " [  0   2  12   1   2   1   0 867   2  12]\n",
      " [  7   2   8   2   0   3   3   2 739   2]\n",
      " [  2   3   2   8   8   1   2  20   2 764]]\n"
     ]
    }
   ],
   "source": [
    "print(confusion_matrix(y_val, prediction_rfs))"
   ]
  },
  {
   "cell_type": "code",
   "execution_count": 24,
   "id": "40736461-6422-43ac-8060-cb0c201c8019",
   "metadata": {},
   "outputs": [],
   "source": [
    "# Предсказания на тестовых данных\n",
    "prediction_rfs_test = np.zeros(len(test_img), np.uint8)\n",
    "for i in range(len(test_img)):\n",
    "    prediction_rfs_test[i] = rfs_hd.predict([test_hist[i]])"
   ]
  },
  {
   "cell_type": "markdown",
   "id": "d53dff87-7c07-4b0d-9251-9337ceaac034",
   "metadata": {},
   "source": [
    "### Визуализируем предсказания"
   ]
  },
  {
   "cell_type": "code",
   "execution_count": 25,
   "id": "5bf52e70-afb6-42bd-8e9b-295b798246de",
   "metadata": {
    "tags": []
   },
   "outputs": [
    {
     "data": {
      "image/png": "[encoded data removed]",
      "text/plain": [
       "<Figure size 2000x1000 with 5 Axes>"
      ]
     },
     "metadata": {},
     "output_type": "display_data"
    }
   ],
   "source": [
    "fig = plt.figure(figsize = (20, 10))\n",
    "for i, img in enumerate(test_img[0:5], 1):\n",
    "    subplot = fig.add_subplot(1, 7, i)\n",
    "    plt.imshow(img, cmap = 'gray');\n",
    "    subplot.set_title('%s' % prediction_rfs_test[i - 1]);"
   ]
  },
  {
   "cell_type": "code",
   "execution_count": 26,
   "id": "551a8e1f-473b-4d76-b0f9-a2b936cc2135",
   "metadata": {},
   "outputs": [],
   "source": [
    "with open('submit_rfs.csv', 'w') as dst:\n",
    "    dst.write('ImageId,Label\\n')\n",
    "    for i, p in enumerate(prediction_rfs_test, 1):\n",
    "        dst.write('%s,%s\\n' % (i, p))"
   ]
  },
  {
   "cell_type": "markdown",
   "id": "b749e554-6afe-45b5-b8b6-a7c3aaf88e83",
   "metadata": {
    "tags": []
   },
   "source": [
    "![score](submit_rfs.png) \\\n",
    "После загрузки в Kaggle score = 0.88485, что достаточно по условию задачи - значение метрики accuracy должно быть больше 0.6"
   ]
  },
  {
   "cell_type": "code",
   "execution_count": null,
   "id": "a8515283-e65b-4357-8f5a-1bf4940a87a8",
   "metadata": {},
   "outputs": [],
   "source": []
  }
 ],
 "metadata": {
  "kernelspec": {
   "display_name": "Python 3 (ipykernel)",
   "language": "python",
   "name": "python3"
  },
  "language_info": {
   "codemirror_mode": {
    "name": "ipython",
    "version": 3
   },
   "file_extension": ".py",
   "mimetype": "text/x-python",
   "name": "python",
   "nbconvert_exporter": "python",
   "pygments_lexer": "ipython3",
   "version": "3.11.5"
  }
 },
 "nbformat": 4,
 "nbformat_minor": 5
}
