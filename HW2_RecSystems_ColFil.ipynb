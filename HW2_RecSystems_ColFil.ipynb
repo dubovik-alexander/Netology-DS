{
  "nbformat": 4,
  "nbformat_minor": 0,
  "metadata": {
    "colab": {
      "provenance": [],
      "gpuType": "T4",
      "authorship_tag": "ABX9TyMhQI0SVsL3d4F83y7T6mIn",
      "include_colab_link": true
    },
    "kernelspec": {
      "name": "python3",
      "display_name": "Python 3"
    },
    "language_info": {
      "name": "python"
    }
  },
  "cells": [
    {
      "cell_type": "markdown",
      "metadata": {
        "id": "view-in-github",
        "colab_type": "text"
      },
      "source": [
        "<a href=\"https://colab.research.google.com/github/dubovik-alexander/Netology-RSML-12/blob/main/HW2_RecSystems_ColFil.ipynb\" target=\"_parent\"><img src=\"https://colab.research.google.com/assets/colab-badge.svg\" alt=\"Open In Colab\"/></a>"
      ]
    },
    {
      "cell_type": "markdown",
      "source": [
        "## Домашнее задание по теме «Рекомендации на основе содержания»"
      ],
      "metadata": {
        "id": "enWxXdGP_1cp"
      }
    },
    {
      "cell_type": "markdown",
      "source": [
        "### Задание\n",
        "\n",
        "1. Пакет SURPRISE:\n",
        "2. используйте данные MovieLens 1M (https://grouplens.org/datasets/movielens/latest/).\n",
        "3. можно использовать любые модели из пакета\n",
        "4. получите RMSE на тестовом сете 0,87 и ниже\n",
        "\n",
        "**Комментарий преподавателя**:\\\n",
        "В домашнем задании на датасет 1М может не хватить RAM. Можно сделать на 100K. Качество RMSE предлагаю считать на основе Cross-validation (5 фолдов), а не на отложенном датасете."
      ],
      "metadata": {
        "id": "EuiS3ZSbAjT-"
      }
    },
    {
      "cell_type": "code",
      "source": [
        "import pandas as pd\n",
        "import numpy as np\n",
        "from tqdm import notebook"
      ],
      "metadata": {
        "id": "34pzrR2RAaBu"
      },
      "execution_count": 1,
      "outputs": []
    },
    {
      "cell_type": "code",
      "source": [
        "# !pip install surprise"
      ],
      "metadata": {
        "id": "6eqaS9WGEWtk"
      },
      "execution_count": 2,
      "outputs": []
    },
    {
      "cell_type": "code",
      "source": [
        "from surprise import KNNWithMeans, KNNBasic, SVD, SVDpp\n",
        "from surprise import Dataset\n",
        "from surprise import accuracy\n",
        "from surprise import Reader\n",
        "from surprise.model_selection import cross_validate\n",
        "from surprise.model_selection import train_test_split"
      ],
      "metadata": {
        "id": "NhJLcaj6EZ6y"
      },
      "execution_count": 3,
      "outputs": []
    },
    {
      "cell_type": "code",
      "source": [
        "!wget 'https://drive.google.com/uc?id=1m0rwReR09achL0xTM6QPoN4tykz5bOMx' -O MovieLens.zip"
      ],
      "metadata": {
        "id": "_alqFBb1ByjJ"
      },
      "execution_count": 4,
      "outputs": []
    },
    {
      "cell_type": "code",
      "source": [
        "!unzip MovieLens.zip"
      ],
      "metadata": {
        "id": "zIg3np6BB0Tg"
      },
      "execution_count": 5,
      "outputs": []
    },
    {
      "cell_type": "markdown",
      "source": [
        "##### Загружаем данные и собираем датасет(фильм-рейтинг)"
      ],
      "metadata": {
        "id": "rQwMuMVgF9rQ"
      }
    },
    {
      "cell_type": "code",
      "source": [
        "movies = pd.read_csv('movies.csv')\n",
        "ratings = pd.read_csv('ratings.csv')"
      ],
      "metadata": {
        "id": "1HfM_OvsB2ii"
      },
      "execution_count": 6,
      "outputs": []
    },
    {
      "cell_type": "code",
      "source": [
        "movies_with_ratings = movies.merge(ratings, on='movieId').reset_index(drop=True)\n",
        "movies_with_ratings.dropna(inplace=True)\n",
        "movies_with_ratings.head()"
      ],
      "metadata": {
        "colab": {
          "base_uri": "https://localhost:8080/",
          "height": 206
        },
        "id": "wmCRgMlkFPdz",
        "outputId": "1e0987d2-53b4-43d2-bf57-7ad878f5cd33"
      },
      "execution_count": 7,
      "outputs": [
        {
          "output_type": "execute_result",
          "data": {
            "text/plain": [
              "   movieId             title                                       genres  \\\n",
              "0        1  Toy Story (1995)  Adventure|Animation|Children|Comedy|Fantasy   \n",
              "1        1  Toy Story (1995)  Adventure|Animation|Children|Comedy|Fantasy   \n",
              "2        1  Toy Story (1995)  Adventure|Animation|Children|Comedy|Fantasy   \n",
              "3        1  Toy Story (1995)  Adventure|Animation|Children|Comedy|Fantasy   \n",
              "4        1  Toy Story (1995)  Adventure|Animation|Children|Comedy|Fantasy   \n",
              "\n",
              "   userId  rating   timestamp  \n",
              "0       1     4.0   964982703  \n",
              "1       5     4.0   847434962  \n",
              "2       7     4.5  1106635946  \n",
              "3      15     2.5  1510577970  \n",
              "4      17     4.5  1305696483  "
            ],
            "text/html": [
              "\n",
              "  <div id=\"df-65477e9c-74a7-4945-93c6-d3af1c8c087e\" class=\"colab-df-container\">\n",
              "    <div>\n",
              "<style scoped>\n",
              "    .dataframe tbody tr th:only-of-type {\n",
              "        vertical-align: middle;\n",
              "    }\n",
              "\n",
              "    .dataframe tbody tr th {\n",
              "        vertical-align: top;\n",
              "    }\n",
              "\n",
              "    .dataframe thead th {\n",
              "        text-align: right;\n",
              "    }\n",
              "</style>\n",
              "<table border=\"1\" class=\"dataframe\">\n",
              "  <thead>\n",
              "    <tr style=\"text-align: right;\">\n",
              "      <th></th>\n",
              "      <th>movieId</th>\n",
              "      <th>title</th>\n",
              "      <th>genres</th>\n",
              "      <th>userId</th>\n",
              "      <th>rating</th>\n",
              "      <th>timestamp</th>\n",
              "    </tr>\n",
              "  </thead>\n",
              "  <tbody>\n",
              "    <tr>\n",
              "      <th>0</th>\n",
              "      <td>1</td>\n",
              "      <td>Toy Story (1995)</td>\n",
              "      <td>Adventure|Animation|Children|Comedy|Fantasy</td>\n",
              "      <td>1</td>\n",
              "      <td>4.0</td>\n",
              "      <td>964982703</td>\n",
              "    </tr>\n",
              "    <tr>\n",
              "      <th>1</th>\n",
              "      <td>1</td>\n",
              "      <td>Toy Story (1995)</td>\n",
              "      <td>Adventure|Animation|Children|Comedy|Fantasy</td>\n",
              "      <td>5</td>\n",
              "      <td>4.0</td>\n",
              "      <td>847434962</td>\n",
              "    </tr>\n",
              "    <tr>\n",
              "      <th>2</th>\n",
              "      <td>1</td>\n",
              "      <td>Toy Story (1995)</td>\n",
              "      <td>Adventure|Animation|Children|Comedy|Fantasy</td>\n",
              "      <td>7</td>\n",
              "      <td>4.5</td>\n",
              "      <td>1106635946</td>\n",
              "    </tr>\n",
              "    <tr>\n",
              "      <th>3</th>\n",
              "      <td>1</td>\n",
              "      <td>Toy Story (1995)</td>\n",
              "      <td>Adventure|Animation|Children|Comedy|Fantasy</td>\n",
              "      <td>15</td>\n",
              "      <td>2.5</td>\n",
              "      <td>1510577970</td>\n",
              "    </tr>\n",
              "    <tr>\n",
              "      <th>4</th>\n",
              "      <td>1</td>\n",
              "      <td>Toy Story (1995)</td>\n",
              "      <td>Adventure|Animation|Children|Comedy|Fantasy</td>\n",
              "      <td>17</td>\n",
              "      <td>4.5</td>\n",
              "      <td>1305696483</td>\n",
              "    </tr>\n",
              "  </tbody>\n",
              "</table>\n",
              "</div>\n",
              "    <div class=\"colab-df-buttons\">\n",
              "\n",
              "  <div class=\"colab-df-container\">\n",
              "    <button class=\"colab-df-convert\" onclick=\"convertToInteractive('df-65477e9c-74a7-4945-93c6-d3af1c8c087e')\"\n",
              "            title=\"Convert this dataframe to an interactive table.\"\n",
              "            style=\"display:none;\">\n",
              "\n",
              "  <svg xmlns=\"http://www.w3.org/2000/svg\" height=\"24px\" viewBox=\"0 -960 960 960\">\n",
              "    <path d=\"M120-120v-720h720v720H120Zm60-500h600v-160H180v160Zm220 220h160v-160H400v160Zm0 220h160v-160H400v160ZM180-400h160v-160H180v160Zm440 0h160v-160H620v160ZM180-180h160v-160H180v160Zm440 0h160v-160H620v160Z\"/>\n",
              "  </svg>\n",
              "    </button>\n",
              "\n",
              "  <style>\n",
              "    .colab-df-container {\n",
              "      display:flex;\n",
              "      gap: 12px;\n",
              "    }\n",
              "\n",
              "    .colab-df-convert {\n",
              "      background-color: #E8F0FE;\n",
              "      border: none;\n",
              "      border-radius: 50%;\n",
              "      cursor: pointer;\n",
              "      display: none;\n",
              "      fill: #1967D2;\n",
              "      height: 32px;\n",
              "      padding: 0 0 0 0;\n",
              "      width: 32px;\n",
              "    }\n",
              "\n",
              "    .colab-df-convert:hover {\n",
              "      background-color: #E2EBFA;\n",
              "      box-shadow: 0px 1px 2px rgba(60, 64, 67, 0.3), 0px 1px 3px 1px rgba(60, 64, 67, 0.15);\n",
              "      fill: #174EA6;\n",
              "    }\n",
              "\n",
              "    .colab-df-buttons div {\n",
              "      margin-bottom: 4px;\n",
              "    }\n",
              "\n",
              "    [theme=dark] .colab-df-convert {\n",
              "      background-color: #3B4455;\n",
              "      fill: #D2E3FC;\n",
              "    }\n",
              "\n",
              "    [theme=dark] .colab-df-convert:hover {\n",
              "      background-color: #434B5C;\n",
              "      box-shadow: 0px 1px 3px 1px rgba(0, 0, 0, 0.15);\n",
              "      filter: drop-shadow(0px 1px 2px rgba(0, 0, 0, 0.3));\n",
              "      fill: #FFFFFF;\n",
              "    }\n",
              "  </style>\n",
              "\n",
              "    <script>\n",
              "      const buttonEl =\n",
              "        document.querySelector('#df-65477e9c-74a7-4945-93c6-d3af1c8c087e button.colab-df-convert');\n",
              "      buttonEl.style.display =\n",
              "        google.colab.kernel.accessAllowed ? 'block' : 'none';\n",
              "\n",
              "      async function convertToInteractive(key) {\n",
              "        const element = document.querySelector('#df-65477e9c-74a7-4945-93c6-d3af1c8c087e');\n",
              "        const dataTable =\n",
              "          await google.colab.kernel.invokeFunction('convertToInteractive',\n",
              "                                                    [key], {});\n",
              "        if (!dataTable) return;\n",
              "\n",
              "        const docLinkHtml = 'Like what you see? Visit the ' +\n",
              "          '<a target=\"_blank\" href=https://colab.research.google.com/notebooks/data_table.ipynb>data table notebook</a>'\n",
              "          + ' to learn more about interactive tables.';\n",
              "        element.innerHTML = '';\n",
              "        dataTable['output_type'] = 'display_data';\n",
              "        await google.colab.output.renderOutput(dataTable, element);\n",
              "        const docLink = document.createElement('div');\n",
              "        docLink.innerHTML = docLinkHtml;\n",
              "        element.appendChild(docLink);\n",
              "      }\n",
              "    </script>\n",
              "  </div>\n",
              "\n",
              "\n",
              "<div id=\"df-f42f4fa0-ea1c-49a1-9cec-edc7d8920626\">\n",
              "  <button class=\"colab-df-quickchart\" onclick=\"quickchart('df-f42f4fa0-ea1c-49a1-9cec-edc7d8920626')\"\n",
              "            title=\"Suggest charts\"\n",
              "            style=\"display:none;\">\n",
              "\n",
              "<svg xmlns=\"http://www.w3.org/2000/svg\" height=\"24px\"viewBox=\"0 0 24 24\"\n",
              "     width=\"24px\">\n",
              "    <g>\n",
              "        <path d=\"M19 3H5c-1.1 0-2 .9-2 2v14c0 1.1.9 2 2 2h14c1.1 0 2-.9 2-2V5c0-1.1-.9-2-2-2zM9 17H7v-7h2v7zm4 0h-2V7h2v10zm4 0h-2v-4h2v4z\"/>\n",
              "    </g>\n",
              "</svg>\n",
              "  </button>\n",
              "\n",
              "<style>\n",
              "  .colab-df-quickchart {\n",
              "      --bg-color: #E8F0FE;\n",
              "      --fill-color: #1967D2;\n",
              "      --hover-bg-color: #E2EBFA;\n",
              "      --hover-fill-color: #174EA6;\n",
              "      --disabled-fill-color: #AAA;\n",
              "      --disabled-bg-color: #DDD;\n",
              "  }\n",
              "\n",
              "  [theme=dark] .colab-df-quickchart {\n",
              "      --bg-color: #3B4455;\n",
              "      --fill-color: #D2E3FC;\n",
              "      --hover-bg-color: #434B5C;\n",
              "      --hover-fill-color: #FFFFFF;\n",
              "      --disabled-bg-color: #3B4455;\n",
              "      --disabled-fill-color: #666;\n",
              "  }\n",
              "\n",
              "  .colab-df-quickchart {\n",
              "    background-color: var(--bg-color);\n",
              "    border: none;\n",
              "    border-radius: 50%;\n",
              "    cursor: pointer;\n",
              "    display: none;\n",
              "    fill: var(--fill-color);\n",
              "    height: 32px;\n",
              "    padding: 0;\n",
              "    width: 32px;\n",
              "  }\n",
              "\n",
              "  .colab-df-quickchart:hover {\n",
              "    background-color: var(--hover-bg-color);\n",
              "    box-shadow: 0 1px 2px rgba(60, 64, 67, 0.3), 0 1px 3px 1px rgba(60, 64, 67, 0.15);\n",
              "    fill: var(--button-hover-fill-color);\n",
              "  }\n",
              "\n",
              "  .colab-df-quickchart-complete:disabled,\n",
              "  .colab-df-quickchart-complete:disabled:hover {\n",
              "    background-color: var(--disabled-bg-color);\n",
              "    fill: var(--disabled-fill-color);\n",
              "    box-shadow: none;\n",
              "  }\n",
              "\n",
              "  .colab-df-spinner {\n",
              "    border: 2px solid var(--fill-color);\n",
              "    border-color: transparent;\n",
              "    border-bottom-color: var(--fill-color);\n",
              "    animation:\n",
              "      spin 1s steps(1) infinite;\n",
              "  }\n",
              "\n",
              "  @keyframes spin {\n",
              "    0% {\n",
              "      border-color: transparent;\n",
              "      border-bottom-color: var(--fill-color);\n",
              "      border-left-color: var(--fill-color);\n",
              "    }\n",
              "    20% {\n",
              "      border-color: transparent;\n",
              "      border-left-color: var(--fill-color);\n",
              "      border-top-color: var(--fill-color);\n",
              "    }\n",
              "    30% {\n",
              "      border-color: transparent;\n",
              "      border-left-color: var(--fill-color);\n",
              "      border-top-color: var(--fill-color);\n",
              "      border-right-color: var(--fill-color);\n",
              "    }\n",
              "    40% {\n",
              "      border-color: transparent;\n",
              "      border-right-color: var(--fill-color);\n",
              "      border-top-color: var(--fill-color);\n",
              "    }\n",
              "    60% {\n",
              "      border-color: transparent;\n",
              "      border-right-color: var(--fill-color);\n",
              "    }\n",
              "    80% {\n",
              "      border-color: transparent;\n",
              "      border-right-color: var(--fill-color);\n",
              "      border-bottom-color: var(--fill-color);\n",
              "    }\n",
              "    90% {\n",
              "      border-color: transparent;\n",
              "      border-bottom-color: var(--fill-color);\n",
              "    }\n",
              "  }\n",
              "</style>\n",
              "\n",
              "  <script>\n",
              "    async function quickchart(key) {\n",
              "      const quickchartButtonEl =\n",
              "        document.querySelector('#' + key + ' button');\n",
              "      quickchartButtonEl.disabled = true;  // To prevent multiple clicks.\n",
              "      quickchartButtonEl.classList.add('colab-df-spinner');\n",
              "      try {\n",
              "        const charts = await google.colab.kernel.invokeFunction(\n",
              "            'suggestCharts', [key], {});\n",
              "      } catch (error) {\n",
              "        console.error('Error during call to suggestCharts:', error);\n",
              "      }\n",
              "      quickchartButtonEl.classList.remove('colab-df-spinner');\n",
              "      quickchartButtonEl.classList.add('colab-df-quickchart-complete');\n",
              "    }\n",
              "    (() => {\n",
              "      let quickchartButtonEl =\n",
              "        document.querySelector('#df-f42f4fa0-ea1c-49a1-9cec-edc7d8920626 button');\n",
              "      quickchartButtonEl.style.display =\n",
              "        google.colab.kernel.accessAllowed ? 'block' : 'none';\n",
              "    })();\n",
              "  </script>\n",
              "</div>\n",
              "    </div>\n",
              "  </div>\n"
            ]
          },
          "metadata": {},
          "execution_count": 7
        }
      ]
    },
    {
      "cell_type": "markdown",
      "source": [
        "##### Используем средства SURPRISE для перевода pandas датафрейма в нужный формат"
      ],
      "metadata": {
        "id": "Db9O0P9VG6Ae"
      }
    },
    {
      "cell_type": "code",
      "source": [
        "dataset = pd.DataFrame({\n",
        "    'uid': movies_with_ratings.userId,\n",
        "    'iid': movies_with_ratings.title,\n",
        "    'rating': movies_with_ratings.rating\n",
        "})"
      ],
      "metadata": {
        "id": "Uln0gcgaFy3V"
      },
      "execution_count": 8,
      "outputs": []
    },
    {
      "cell_type": "code",
      "source": [
        "dataset.head()"
      ],
      "metadata": {
        "colab": {
          "base_uri": "https://localhost:8080/",
          "height": 206
        },
        "id": "e44YCB60LAzo",
        "outputId": "2b66fbf4-8230-47c0-d127-fa52aed41d4c"
      },
      "execution_count": 9,
      "outputs": [
        {
          "output_type": "execute_result",
          "data": {
            "text/plain": [
              "   uid               iid  rating\n",
              "0    1  Toy Story (1995)     4.0\n",
              "1    5  Toy Story (1995)     4.0\n",
              "2    7  Toy Story (1995)     4.5\n",
              "3   15  Toy Story (1995)     2.5\n",
              "4   17  Toy Story (1995)     4.5"
            ],
            "text/html": [
              "\n",
              "  <div id=\"df-cf13b6de-f89c-4cfc-8573-843dd3d25205\" class=\"colab-df-container\">\n",
              "    <div>\n",
              "<style scoped>\n",
              "    .dataframe tbody tr th:only-of-type {\n",
              "        vertical-align: middle;\n",
              "    }\n",
              "\n",
              "    .dataframe tbody tr th {\n",
              "        vertical-align: top;\n",
              "    }\n",
              "\n",
              "    .dataframe thead th {\n",
              "        text-align: right;\n",
              "    }\n",
              "</style>\n",
              "<table border=\"1\" class=\"dataframe\">\n",
              "  <thead>\n",
              "    <tr style=\"text-align: right;\">\n",
              "      <th></th>\n",
              "      <th>uid</th>\n",
              "      <th>iid</th>\n",
              "      <th>rating</th>\n",
              "    </tr>\n",
              "  </thead>\n",
              "  <tbody>\n",
              "    <tr>\n",
              "      <th>0</th>\n",
              "      <td>1</td>\n",
              "      <td>Toy Story (1995)</td>\n",
              "      <td>4.0</td>\n",
              "    </tr>\n",
              "    <tr>\n",
              "      <th>1</th>\n",
              "      <td>5</td>\n",
              "      <td>Toy Story (1995)</td>\n",
              "      <td>4.0</td>\n",
              "    </tr>\n",
              "    <tr>\n",
              "      <th>2</th>\n",
              "      <td>7</td>\n",
              "      <td>Toy Story (1995)</td>\n",
              "      <td>4.5</td>\n",
              "    </tr>\n",
              "    <tr>\n",
              "      <th>3</th>\n",
              "      <td>15</td>\n",
              "      <td>Toy Story (1995)</td>\n",
              "      <td>2.5</td>\n",
              "    </tr>\n",
              "    <tr>\n",
              "      <th>4</th>\n",
              "      <td>17</td>\n",
              "      <td>Toy Story (1995)</td>\n",
              "      <td>4.5</td>\n",
              "    </tr>\n",
              "  </tbody>\n",
              "</table>\n",
              "</div>\n",
              "    <div class=\"colab-df-buttons\">\n",
              "\n",
              "  <div class=\"colab-df-container\">\n",
              "    <button class=\"colab-df-convert\" onclick=\"convertToInteractive('df-cf13b6de-f89c-4cfc-8573-843dd3d25205')\"\n",
              "            title=\"Convert this dataframe to an interactive table.\"\n",
              "            style=\"display:none;\">\n",
              "\n",
              "  <svg xmlns=\"http://www.w3.org/2000/svg\" height=\"24px\" viewBox=\"0 -960 960 960\">\n",
              "    <path d=\"M120-120v-720h720v720H120Zm60-500h600v-160H180v160Zm220 220h160v-160H400v160Zm0 220h160v-160H400v160ZM180-400h160v-160H180v160Zm440 0h160v-160H620v160ZM180-180h160v-160H180v160Zm440 0h160v-160H620v160Z\"/>\n",
              "  </svg>\n",
              "    </button>\n",
              "\n",
              "  <style>\n",
              "    .colab-df-container {\n",
              "      display:flex;\n",
              "      gap: 12px;\n",
              "    }\n",
              "\n",
              "    .colab-df-convert {\n",
              "      background-color: #E8F0FE;\n",
              "      border: none;\n",
              "      border-radius: 50%;\n",
              "      cursor: pointer;\n",
              "      display: none;\n",
              "      fill: #1967D2;\n",
              "      height: 32px;\n",
              "      padding: 0 0 0 0;\n",
              "      width: 32px;\n",
              "    }\n",
              "\n",
              "    .colab-df-convert:hover {\n",
              "      background-color: #E2EBFA;\n",
              "      box-shadow: 0px 1px 2px rgba(60, 64, 67, 0.3), 0px 1px 3px 1px rgba(60, 64, 67, 0.15);\n",
              "      fill: #174EA6;\n",
              "    }\n",
              "\n",
              "    .colab-df-buttons div {\n",
              "      margin-bottom: 4px;\n",
              "    }\n",
              "\n",
              "    [theme=dark] .colab-df-convert {\n",
              "      background-color: #3B4455;\n",
              "      fill: #D2E3FC;\n",
              "    }\n",
              "\n",
              "    [theme=dark] .colab-df-convert:hover {\n",
              "      background-color: #434B5C;\n",
              "      box-shadow: 0px 1px 3px 1px rgba(0, 0, 0, 0.15);\n",
              "      filter: drop-shadow(0px 1px 2px rgba(0, 0, 0, 0.3));\n",
              "      fill: #FFFFFF;\n",
              "    }\n",
              "  </style>\n",
              "\n",
              "    <script>\n",
              "      const buttonEl =\n",
              "        document.querySelector('#df-cf13b6de-f89c-4cfc-8573-843dd3d25205 button.colab-df-convert');\n",
              "      buttonEl.style.display =\n",
              "        google.colab.kernel.accessAllowed ? 'block' : 'none';\n",
              "\n",
              "      async function convertToInteractive(key) {\n",
              "        const element = document.querySelector('#df-cf13b6de-f89c-4cfc-8573-843dd3d25205');\n",
              "        const dataTable =\n",
              "          await google.colab.kernel.invokeFunction('convertToInteractive',\n",
              "                                                    [key], {});\n",
              "        if (!dataTable) return;\n",
              "\n",
              "        const docLinkHtml = 'Like what you see? Visit the ' +\n",
              "          '<a target=\"_blank\" href=https://colab.research.google.com/notebooks/data_table.ipynb>data table notebook</a>'\n",
              "          + ' to learn more about interactive tables.';\n",
              "        element.innerHTML = '';\n",
              "        dataTable['output_type'] = 'display_data';\n",
              "        await google.colab.output.renderOutput(dataTable, element);\n",
              "        const docLink = document.createElement('div');\n",
              "        docLink.innerHTML = docLinkHtml;\n",
              "        element.appendChild(docLink);\n",
              "      }\n",
              "    </script>\n",
              "  </div>\n",
              "\n",
              "\n",
              "<div id=\"df-d73db463-5ab5-436d-b9ae-b51a43315f71\">\n",
              "  <button class=\"colab-df-quickchart\" onclick=\"quickchart('df-d73db463-5ab5-436d-b9ae-b51a43315f71')\"\n",
              "            title=\"Suggest charts\"\n",
              "            style=\"display:none;\">\n",
              "\n",
              "<svg xmlns=\"http://www.w3.org/2000/svg\" height=\"24px\"viewBox=\"0 0 24 24\"\n",
              "     width=\"24px\">\n",
              "    <g>\n",
              "        <path d=\"M19 3H5c-1.1 0-2 .9-2 2v14c0 1.1.9 2 2 2h14c1.1 0 2-.9 2-2V5c0-1.1-.9-2-2-2zM9 17H7v-7h2v7zm4 0h-2V7h2v10zm4 0h-2v-4h2v4z\"/>\n",
              "    </g>\n",
              "</svg>\n",
              "  </button>\n",
              "\n",
              "<style>\n",
              "  .colab-df-quickchart {\n",
              "      --bg-color: #E8F0FE;\n",
              "      --fill-color: #1967D2;\n",
              "      --hover-bg-color: #E2EBFA;\n",
              "      --hover-fill-color: #174EA6;\n",
              "      --disabled-fill-color: #AAA;\n",
              "      --disabled-bg-color: #DDD;\n",
              "  }\n",
              "\n",
              "  [theme=dark] .colab-df-quickchart {\n",
              "      --bg-color: #3B4455;\n",
              "      --fill-color: #D2E3FC;\n",
              "      --hover-bg-color: #434B5C;\n",
              "      --hover-fill-color: #FFFFFF;\n",
              "      --disabled-bg-color: #3B4455;\n",
              "      --disabled-fill-color: #666;\n",
              "  }\n",
              "\n",
              "  .colab-df-quickchart {\n",
              "    background-color: var(--bg-color);\n",
              "    border: none;\n",
              "    border-radius: 50%;\n",
              "    cursor: pointer;\n",
              "    display: none;\n",
              "    fill: var(--fill-color);\n",
              "    height: 32px;\n",
              "    padding: 0;\n",
              "    width: 32px;\n",
              "  }\n",
              "\n",
              "  .colab-df-quickchart:hover {\n",
              "    background-color: var(--hover-bg-color);\n",
              "    box-shadow: 0 1px 2px rgba(60, 64, 67, 0.3), 0 1px 3px 1px rgba(60, 64, 67, 0.15);\n",
              "    fill: var(--button-hover-fill-color);\n",
              "  }\n",
              "\n",
              "  .colab-df-quickchart-complete:disabled,\n",
              "  .colab-df-quickchart-complete:disabled:hover {\n",
              "    background-color: var(--disabled-bg-color);\n",
              "    fill: var(--disabled-fill-color);\n",
              "    box-shadow: none;\n",
              "  }\n",
              "\n",
              "  .colab-df-spinner {\n",
              "    border: 2px solid var(--fill-color);\n",
              "    border-color: transparent;\n",
              "    border-bottom-color: var(--fill-color);\n",
              "    animation:\n",
              "      spin 1s steps(1) infinite;\n",
              "  }\n",
              "\n",
              "  @keyframes spin {\n",
              "    0% {\n",
              "      border-color: transparent;\n",
              "      border-bottom-color: var(--fill-color);\n",
              "      border-left-color: var(--fill-color);\n",
              "    }\n",
              "    20% {\n",
              "      border-color: transparent;\n",
              "      border-left-color: var(--fill-color);\n",
              "      border-top-color: var(--fill-color);\n",
              "    }\n",
              "    30% {\n",
              "      border-color: transparent;\n",
              "      border-left-color: var(--fill-color);\n",
              "      border-top-color: var(--fill-color);\n",
              "      border-right-color: var(--fill-color);\n",
              "    }\n",
              "    40% {\n",
              "      border-color: transparent;\n",
              "      border-right-color: var(--fill-color);\n",
              "      border-top-color: var(--fill-color);\n",
              "    }\n",
              "    60% {\n",
              "      border-color: transparent;\n",
              "      border-right-color: var(--fill-color);\n",
              "    }\n",
              "    80% {\n",
              "      border-color: transparent;\n",
              "      border-right-color: var(--fill-color);\n",
              "      border-bottom-color: var(--fill-color);\n",
              "    }\n",
              "    90% {\n",
              "      border-color: transparent;\n",
              "      border-bottom-color: var(--fill-color);\n",
              "    }\n",
              "  }\n",
              "</style>\n",
              "\n",
              "  <script>\n",
              "    async function quickchart(key) {\n",
              "      const quickchartButtonEl =\n",
              "        document.querySelector('#' + key + ' button');\n",
              "      quickchartButtonEl.disabled = true;  // To prevent multiple clicks.\n",
              "      quickchartButtonEl.classList.add('colab-df-spinner');\n",
              "      try {\n",
              "        const charts = await google.colab.kernel.invokeFunction(\n",
              "            'suggestCharts', [key], {});\n",
              "      } catch (error) {\n",
              "        console.error('Error during call to suggestCharts:', error);\n",
              "      }\n",
              "      quickchartButtonEl.classList.remove('colab-df-spinner');\n",
              "      quickchartButtonEl.classList.add('colab-df-quickchart-complete');\n",
              "    }\n",
              "    (() => {\n",
              "      let quickchartButtonEl =\n",
              "        document.querySelector('#df-d73db463-5ab5-436d-b9ae-b51a43315f71 button');\n",
              "      quickchartButtonEl.style.display =\n",
              "        google.colab.kernel.accessAllowed ? 'block' : 'none';\n",
              "    })();\n",
              "  </script>\n",
              "</div>\n",
              "    </div>\n",
              "  </div>\n"
            ]
          },
          "metadata": {},
          "execution_count": 9
        }
      ]
    },
    {
      "cell_type": "code",
      "source": [
        "ratings.rating.min()"
      ],
      "metadata": {
        "colab": {
          "base_uri": "https://localhost:8080/"
        },
        "id": "5hHCp_UcLA2H",
        "outputId": "55c2e1fc-35a2-4b7a-aff3-0a2b4a0f28b3"
      },
      "execution_count": 10,
      "outputs": [
        {
          "output_type": "execute_result",
          "data": {
            "text/plain": [
              "0.5"
            ]
          },
          "metadata": {},
          "execution_count": 10
        }
      ]
    },
    {
      "cell_type": "code",
      "source": [
        "ratings.rating.max()"
      ],
      "metadata": {
        "colab": {
          "base_uri": "https://localhost:8080/"
        },
        "id": "DQCAj9msLA4y",
        "outputId": "9da335cc-f7a0-4e79-f288-e2ba704f5003"
      },
      "execution_count": 11,
      "outputs": [
        {
          "output_type": "execute_result",
          "data": {
            "text/plain": [
              "5.0"
            ]
          },
          "metadata": {},
          "execution_count": 11
        }
      ]
    },
    {
      "cell_type": "code",
      "source": [
        "reader = Reader(rating_scale=(0.5, 5.0))\n",
        "data = Dataset.load_from_df(dataset, reader)"
      ],
      "metadata": {
        "id": "XCR2BqtTLA7R"
      },
      "execution_count": 12,
      "outputs": []
    },
    {
      "cell_type": "code",
      "source": [
        "trainset, testset = train_test_split(data, test_size=0.2, random_state=1)"
      ],
      "metadata": {
        "id": "Uhun3iDMLA97"
      },
      "execution_count": 13,
      "outputs": []
    },
    {
      "cell_type": "markdown",
      "source": [
        "##### Отбираем алгоритм/алгоритмы из SURPRISE, которые будем обучать"
      ],
      "metadata": {
        "id": "OBLVDxuILzSx"
      }
    },
    {
      "cell_type": "markdown",
      "source": [
        "Аccuracy metrics:\n",
        "\n",
        "* rmse - Compute RMSE (Root Mean Squared Error)\n",
        "* mse - Compute MSE (Mean Squared Error)\n",
        "* mae - Compute MAE (Mean Absolute Error)\n",
        "* fcp - Compute FCP (Fraction of Concordant Pairs)\n"
      ],
      "metadata": {
        "id": "QZzNQNrXzfhV"
      }
    },
    {
      "cell_type": "code",
      "source": [
        "# Использование алгоритма SVD (Singular Value Decomposition)\n",
        "algo_SVD =  SVD(n_epochs=15, verbose=False, biased=True, n_factors=15)\n",
        "# algo =  SVD(n_epochs=5, verbose=False, biased=True, n_factors=10) # слишком хорошо и не удовлетворяет условием задачи что бы RMSE было 0,87 и ниже.\n",
        "# n_epochs: количество эпох обучения.\n",
        "# verbose: если True, то выводит информацию о процессе обучения.\n",
        "# biased: если True, то использует упрощенную версию SVD.\n",
        "# n_factors: количество факторов в модели.\n",
        "\n",
        "# Запуск 5-фолдовой кросс-валидации и вывод результатов\n",
        "algo_SVD.fit(trainset)\n",
        "# test_pred_svd = algo_SVD.test(testset)\n",
        "# accuracy.rmse(test_pred_svd, verbose=True) # использовал для проверки\n",
        "\n",
        "# Запуск 5-fold cross-validation и вывод\n",
        "cross_validate(algo_SVD, data, measures=['RMSE', 'MSE', 'MAE', 'FCP'], cv=5, verbose=True)"
      ],
      "metadata": {
        "colab": {
          "base_uri": "https://localhost:8080/"
        },
        "id": "uP9oYAh8IbiH",
        "outputId": "3586ebce-3bb7-4436-9144-1d4312e2f374"
      },
      "execution_count": 14,
      "outputs": [
        {
          "output_type": "stream",
          "name": "stdout",
          "text": [
            "Evaluating RMSE, MSE, MAE, FCP of algorithm SVD on 5 split(s).\n",
            "\n",
            "                  Fold 1  Fold 2  Fold 3  Fold 4  Fold 5  Mean    Std     \n",
            "RMSE (testset)    0.8746  0.8767  0.8703  0.8674  0.8740  0.8726  0.0033  \n",
            "MSE (testset)     0.7648  0.7687  0.7575  0.7523  0.7639  0.7614  0.0058  \n",
            "MAE (testset)     0.6731  0.6737  0.6675  0.6696  0.6723  0.6712  0.0024  \n",
            "FCP (testset)     0.6755  0.6642  0.6684  0.6600  0.6673  0.6671  0.0051  \n",
            "Fit time          0.80    0.80    2.76    1.34    0.69    1.28    0.78    \n",
            "Test time         0.31    0.22    0.48    0.40    0.12    0.30    0.13    \n"
          ]
        },
        {
          "output_type": "execute_result",
          "data": {
            "text/plain": [
              "{'test_rmse': array([0.87455161, 0.87672798, 0.87033236, 0.86736218, 0.87399416]),\n",
              " 'test_mse': array([0.76484052, 0.76865195, 0.75747841, 0.75231715, 0.7638658 ]),\n",
              " 'test_mae': array([0.67308376, 0.67374453, 0.66748963, 0.66958114, 0.67234541]),\n",
              " 'test_fcp': array([0.67549424, 0.66420154, 0.66837108, 0.66000537, 0.66727844]),\n",
              " 'fit_time': (0.8020503520965576,\n",
              "  0.8028900623321533,\n",
              "  2.7637345790863037,\n",
              "  1.3429765701293945,\n",
              "  0.6947519779205322),\n",
              " 'test_time': (0.30801939964294434,\n",
              "  0.21587252616882324,\n",
              "  0.4801652431488037,\n",
              "  0.39571547508239746,\n",
              "  0.12037825584411621)}"
            ]
          },
          "metadata": {},
          "execution_count": 14
        }
      ]
    },
    {
      "cell_type": "code",
      "source": [
        "# Использование алгоритма KNNBasic\n",
        "algo_KNNB = KNNBasic(k=50, sim_options={\n",
        "    'name': 'cosine',\n",
        "    'user_based': False  # compute similarities between items\n",
        "})\n",
        "algo_KNNB.fit(trainset)\n",
        "\n",
        "\n",
        "cross_validate(algo_KNNB, data, measures=['RMSE', 'MSE', 'MAE', 'FCP'], cv=5, verbose=True)\n"
      ],
      "metadata": {
        "colab": {
          "base_uri": "https://localhost:8080/"
        },
        "id": "FSQo7rN2I0gZ",
        "outputId": "99a8270b-c58d-4e83-b282-f8c5c822783f"
      },
      "execution_count": 15,
      "outputs": [
        {
          "output_type": "stream",
          "name": "stdout",
          "text": [
            "Computing the cosine similarity matrix...\n",
            "Done computing similarity matrix.\n",
            "Computing the cosine similarity matrix...\n",
            "Done computing similarity matrix.\n",
            "Computing the cosine similarity matrix...\n",
            "Done computing similarity matrix.\n",
            "Computing the cosine similarity matrix...\n",
            "Done computing similarity matrix.\n",
            "Computing the cosine similarity matrix...\n",
            "Done computing similarity matrix.\n",
            "Computing the cosine similarity matrix...\n",
            "Done computing similarity matrix.\n",
            "Evaluating RMSE, MSE, MAE, FCP of algorithm KNNBasic on 5 split(s).\n",
            "\n",
            "                  Fold 1  Fold 2  Fold 3  Fold 4  Fold 5  Mean    Std     \n",
            "RMSE (testset)    0.9734  0.9622  0.9820  0.9657  0.9788  0.9724  0.0075  \n",
            "MSE (testset)     0.9475  0.9257  0.9643  0.9325  0.9580  0.9456  0.0146  \n",
            "MAE (testset)     0.7591  0.7493  0.7663  0.7488  0.7603  0.7568  0.0068  \n",
            "FCP (testset)     0.4328  0.4334  0.4354  0.4324  0.4366  0.4341  0.0016  \n",
            "Fit time          8.26    8.37    7.55    7.22    7.97    7.87    0.43    \n",
            "Test time         10.22   8.62    9.90    10.00   8.82    9.51    0.66    \n"
          ]
        },
        {
          "output_type": "execute_result",
          "data": {
            "text/plain": [
              "{'test_rmse': array([0.97339262, 0.96215878, 0.98198069, 0.96567644, 0.97879738]),\n",
              " 'test_mse': array([0.94749319, 0.92574952, 0.96428608, 0.93253099, 0.95804431]),\n",
              " 'test_mae': array([0.75910115, 0.74927182, 0.76634715, 0.74881372, 0.76027764]),\n",
              " 'test_fcp': array([0.43284484, 0.43338017, 0.43539872, 0.43243485, 0.43664918]),\n",
              " 'fit_time': (8.255648612976074,\n",
              "  8.366158485412598,\n",
              "  7.547303915023804,\n",
              "  7.223072052001953,\n",
              "  7.967855215072632),\n",
              " 'test_time': (10.223539590835571,\n",
              "  8.616150140762329,\n",
              "  9.901300191879272,\n",
              "  10.003084897994995,\n",
              "  8.82258415222168)}"
            ]
          },
          "metadata": {},
          "execution_count": 15
        }
      ]
    },
    {
      "cell_type": "code",
      "source": [
        "# Использование алгоритма SVDpp\n",
        "# Комменатрий для себя что бы не забыть\n",
        "# SVDpp (Singular Value Decomposition Plus Plus) - это алгоритм матричной факторизации, который используется в библиотеке Surprise для рекомендательных систем.\n",
        "# Этот алгоритм является расширением алгоритма SVD (Singular Value Decomposition), которое учитывает неявные отзывы в данных.\n",
        "# В отличие от SVD, который требует явных отзывов, SVDpp может обрабатывать неявные отзывы, что делает его полезным для рекомендательных систем,\n",
        "# где отзывы пользователей могут быть неявными (например, когда пользователь просматривает товар, но не оставляет отзыв)\n",
        "\n",
        "algo_SVDPP = SVDpp()\n",
        "\n",
        "cross_validate(algo_SVDPP, data, measures=['RMSE', 'MSE', 'MAE', 'FCP'], cv=5, verbose=True)"
      ],
      "metadata": {
        "colab": {
          "base_uri": "https://localhost:8080/"
        },
        "id": "w72LBGCMI0i7",
        "outputId": "26f0264d-fe25-432c-aa5d-bc6a7079dd40"
      },
      "execution_count": 16,
      "outputs": [
        {
          "output_type": "stream",
          "name": "stdout",
          "text": [
            "Evaluating RMSE, MSE, MAE, FCP of algorithm SVDpp on 5 split(s).\n",
            "\n",
            "                  Fold 1  Fold 2  Fold 3  Fold 4  Fold 5  Mean    Std     \n",
            "RMSE (testset)    0.8624  0.8592  0.8652  0.8659  0.8579  0.8621  0.0032  \n",
            "MSE (testset)     0.7437  0.7382  0.7487  0.7497  0.7360  0.7433  0.0055  \n",
            "MAE (testset)     0.6616  0.6576  0.6622  0.6647  0.6547  0.6601  0.0036  \n",
            "FCP (testset)     0.6707  0.6728  0.6777  0.6750  0.6762  0.6745  0.0025  \n",
            "Fit time          111.20  111.31  111.29  117.80  115.16  113.35  2.69    \n",
            "Test time         12.39   12.27   12.06   13.65   15.15   13.10   1.16    \n"
          ]
        },
        {
          "output_type": "execute_result",
          "data": {
            "text/plain": [
              "{'test_rmse': array([0.86238788, 0.85918789, 0.86524909, 0.86585521, 0.85792887]),\n",
              " 'test_mse': array([0.74371285, 0.73820384, 0.74865598, 0.74970525, 0.73604195]),\n",
              " 'test_mae': array([0.66155835, 0.65757512, 0.66216147, 0.66470163, 0.65465205]),\n",
              " 'test_fcp': array([0.67071398, 0.67284823, 0.67768485, 0.67498992, 0.67624755]),\n",
              " 'fit_time': (111.20256423950195,\n",
              "  111.3055899143219,\n",
              "  111.29202938079834,\n",
              "  117.79814267158508,\n",
              "  115.15973615646362),\n",
              " 'test_time': (12.39429783821106,\n",
              "  12.270484447479248,\n",
              "  12.058011293411255,\n",
              "  13.649759292602539,\n",
              "  15.15145492553711)}"
            ]
          },
          "metadata": {},
          "execution_count": 16
        }
      ]
    },
    {
      "cell_type": "code",
      "source": [
        "# Использование алгоритма KNNWithMeans item_based\n",
        "algo_KNMWM_ib = KNNWithMeans(k=50, sim_options={\n",
        "    'name': 'cosine',\n",
        "    'user_based': False  # compute similarities between items\n",
        "})\n",
        "algo_KNMWM_ib.fit(trainset)\n",
        "\n",
        "cross_validate(algo_KNMWM_ib, data, measures=['RMSE', 'MSE', 'MAE', 'FCP'], cv=5, verbose=True)"
      ],
      "metadata": {
        "colab": {
          "base_uri": "https://localhost:8080/"
        },
        "id": "jrDHRUN8Fy6f",
        "outputId": "6f4a789a-5235-4ee0-afbb-279e78f88b94"
      },
      "execution_count": 17,
      "outputs": [
        {
          "output_type": "stream",
          "name": "stdout",
          "text": [
            "Computing the cosine similarity matrix...\n",
            "Done computing similarity matrix.\n",
            "Computing the cosine similarity matrix...\n",
            "Done computing similarity matrix.\n",
            "Computing the cosine similarity matrix...\n",
            "Done computing similarity matrix.\n",
            "Computing the cosine similarity matrix...\n",
            "Done computing similarity matrix.\n",
            "Computing the cosine similarity matrix...\n",
            "Done computing similarity matrix.\n",
            "Computing the cosine similarity matrix...\n",
            "Done computing similarity matrix.\n",
            "Evaluating RMSE, MSE, MAE, FCP of algorithm KNNWithMeans on 5 split(s).\n",
            "\n",
            "                  Fold 1  Fold 2  Fold 3  Fold 4  Fold 5  Mean    Std     \n",
            "RMSE (testset)    0.9038  0.9014  0.8987  0.8993  0.9002  0.9007  0.0018  \n",
            "MSE (testset)     0.8168  0.8125  0.8077  0.8087  0.8104  0.8112  0.0033  \n",
            "MAE (testset)     0.6881  0.6879  0.6882  0.6884  0.6868  0.6879  0.0006  \n",
            "FCP (testset)     0.6456  0.6501  0.6456  0.6541  0.6569  0.6505  0.0045  \n",
            "Fit time          9.99    7.51    7.73    7.95    8.95    8.43    0.93    \n",
            "Test time         10.01   10.71   11.67   10.58   11.04   10.80   0.55    \n"
          ]
        },
        {
          "output_type": "execute_result",
          "data": {
            "text/plain": [
              "{'test_rmse': array([0.90379302, 0.90137715, 0.89871756, 0.89925734, 0.90022443]),\n",
              " 'test_mse': array([0.81684183, 0.81248077, 0.80769326, 0.80866376, 0.81040403]),\n",
              " 'test_mae': array([0.68813063, 0.68786638, 0.68823117, 0.68840181, 0.68675039]),\n",
              " 'test_fcp': array([0.64559324, 0.65007594, 0.64562622, 0.65414481, 0.6568576 ]),\n",
              " 'fit_time': (9.991855144500732,\n",
              "  7.509260654449463,\n",
              "  7.7267303466796875,\n",
              "  7.9494171142578125,\n",
              "  8.951449632644653),\n",
              " 'test_time': (10.009212970733643,\n",
              "  10.713686466217041,\n",
              "  11.674769639968872,\n",
              "  10.58335828781128,\n",
              "  11.042923212051392)}"
            ]
          },
          "metadata": {},
          "execution_count": 17
        }
      ]
    },
    {
      "cell_type": "code",
      "source": [
        "# Использование алгоритма KNNWithMeans user_based\n",
        "algo_KNMWM_ub = KNNWithMeans(k=50, sim_options={\n",
        "    'name': 'cosine',\n",
        "    'user_based': True  # compute similarities between users\n",
        "})\n",
        "algo_KNMWM_ub.fit(trainset)\n",
        "\n",
        "\n",
        "cross_validate(algo_KNMWM_ub, data, measures=['RMSE', 'MSE', 'MAE', 'FCP'], cv=5, verbose=True)"
      ],
      "metadata": {
        "colab": {
          "base_uri": "https://localhost:8080/"
        },
        "id": "-p_yA2rIJGt5",
        "outputId": "ecc79b45-e2db-4ecb-aedb-6b51d68a9b63"
      },
      "execution_count": 18,
      "outputs": [
        {
          "output_type": "stream",
          "name": "stdout",
          "text": [
            "Computing the cosine similarity matrix...\n",
            "Done computing similarity matrix.\n",
            "Computing the cosine similarity matrix...\n",
            "Done computing similarity matrix.\n",
            "Computing the cosine similarity matrix...\n",
            "Done computing similarity matrix.\n",
            "Computing the cosine similarity matrix...\n",
            "Done computing similarity matrix.\n",
            "Computing the cosine similarity matrix...\n",
            "Done computing similarity matrix.\n",
            "Computing the cosine similarity matrix...\n",
            "Done computing similarity matrix.\n",
            "Evaluating RMSE, MSE, MAE, FCP of algorithm KNNWithMeans on 5 split(s).\n",
            "\n",
            "                  Fold 1  Fold 2  Fold 3  Fold 4  Fold 5  Mean    Std     \n",
            "RMSE (testset)    0.8932  0.9057  0.9084  0.8951  0.8994  0.9004  0.0059  \n",
            "MSE (testset)     0.7978  0.8204  0.8252  0.8012  0.8090  0.8107  0.0106  \n",
            "MAE (testset)     0.6841  0.6905  0.6940  0.6861  0.6877  0.6885  0.0034  \n",
            "FCP (testset)     0.6578  0.6563  0.6398  0.6470  0.6407  0.6483  0.0076  \n",
            "Fit time          0.18    0.30    0.21    0.24    0.22    0.23    0.04    \n",
            "Test time         1.61    2.33    1.41    1.92    1.43    1.74    0.35    \n"
          ]
        },
        {
          "output_type": "execute_result",
          "data": {
            "text/plain": [
              "{'test_rmse': array([0.89320002, 0.90573749, 0.90843166, 0.89511958, 0.8994222 ]),\n",
              " 'test_mse': array([0.79780627, 0.8203604 , 0.82524808, 0.80123906, 0.80896029]),\n",
              " 'test_mae': array([0.68413013, 0.69050307, 0.69396018, 0.68614343, 0.68774912]),\n",
              " 'test_fcp': array([0.65782833, 0.65634003, 0.63978271, 0.64697414, 0.64067605]),\n",
              " 'fit_time': (0.17622876167297363,\n",
              "  0.29764795303344727,\n",
              "  0.20584964752197266,\n",
              "  0.24220871925354004,\n",
              "  0.22333335876464844),\n",
              " 'test_time': (1.6113369464874268,\n",
              "  2.3292336463928223,\n",
              "  1.409625768661499,\n",
              "  1.9201371669769287,\n",
              "  1.4274804592132568)}"
            ]
          },
          "metadata": {},
          "execution_count": 18
        }
      ]
    },
    {
      "cell_type": "markdown",
      "source": [
        "> *Вывод*:\\\n",
        "> В Задании было условие: получите RMSE на тестовом сете 0,87 и ниже \\\n",
        "> После тестирования разными алгоритмами, методами подбора, в том числе, самым приближенным к условию оказался алгоритмы SVD и его расширение SVDpp."
      ],
      "metadata": {
        "id": "Izp5h9Y8NeXY"
      }
    },
    {
      "cell_type": "code",
      "source": [],
      "metadata": {
        "id": "8Wfx1fyivQeS"
      },
      "execution_count": 18,
      "outputs": []
    }
  ]
}